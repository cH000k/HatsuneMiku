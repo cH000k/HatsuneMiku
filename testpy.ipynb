{
 "cells": [
  {
   "cell_type": "code",
   "execution_count": 8,
   "metadata": {},
   "outputs": [],
   "source": [
    "# Parent Class\n",
    "class Vehicle:\n",
    "\n",
    "    def __init__(self, name, max_speed, mileage):\n",
    "        self.name = name\n",
    "        self.max_speed = max_speed\n",
    "        self.mileage = mileage\n",
    "    \n",
    "    def seating_capacity(self, capacity):\n",
    "        return f\"The seating capacity of a {self.name} is {capacity} passengers\""
   ]
  },
  {
   "cell_type": "code",
   "execution_count": 14,
   "metadata": {},
   "outputs": [
    {
     "name": "stdout",
     "output_type": "stream",
     "text": [
      "Volvo 180 12\n",
      "The seating capacity of a Volvo is 1 passengers\n"
     ]
    }
   ],
   "source": [
    "# Child Class\n",
    "class Bus(Vehicle):\n",
    "    pass\n",
    "    \n",
    "modelX = Bus(\"Volvo\", 180, 12)\n",
    "print(modelX.name, modelX.max_speed, modelX.mileage)\n",
    "\n",
    "print(modelX.seating_capacity(1))"
   ]
  },
  {
   "cell_type": "code",
   "execution_count": 17,
   "metadata": {},
   "outputs": [
    {
     "name": "stdout",
     "output_type": "stream",
     "text": [
      "[-3, -1, 0, 1, 3]\n"
     ]
    }
   ],
   "source": [
    "# test1 = [1, 3, 6, 4, 1, 2]\n",
    "# test2 = [1, 2, 3]\n",
    "test3 = [12, -7, 5, 64, -14]\n",
    "test4 = [-1, -2, -5]\n",
    "test5 = [-1, -3, 0, 1, 3]\n",
    "a = sorted(test5)\n",
    "\n",
    "print(sorted(test5))"
   ]
  },
  {
   "cell_type": "code",
   "execution_count": 18,
   "metadata": {},
   "outputs": [
    {
     "name": "stdout",
     "output_type": "stream",
     "text": [
      "3\n"
     ]
    }
   ],
   "source": [
    "print(a[-1])"
   ]
  },
  {
   "cell_type": "code",
   "execution_count": 21,
   "metadata": {},
   "outputs": [
    {
     "name": "stdout",
     "output_type": "stream",
     "text": [
      "0 -3\n",
      "1 -1\n",
      "2 0\n",
      "3 1\n",
      "4 3\n"
     ]
    }
   ],
   "source": [
    "for index, value in enumerate(a):\n",
    "    print(index, value)"
   ]
  },
  {
   "cell_type": "code",
   "execution_count": 15,
   "metadata": {},
   "outputs": [
    {
     "name": "stdout",
     "output_type": "stream",
     "text": [
      "1\n"
     ]
    }
   ],
   "source": [
    "def solution(a):\n",
    "    # Implement your solution here\n",
    "    sorted_array = sorted(A)\n",
    "\n",
    "    if sorted_array[-1] < 1:\n",
    "        return 1\n",
    "\n",
    "    for i in range(len(sorted_array)):\n",
    "        try:\n",
    "            if (sorted_array[i+1]-sorted_array[i]) > 1:\n",
    "                return i+1\n",
    "        except:\n",
    "            pass\n",
    "    return sorted_array[-1]+1\n",
    "\n",
    "print(solution(A))"
   ]
  },
  {
   "cell_type": "code",
   "execution_count": null,
   "metadata": {},
   "outputs": [],
   "source": [
    "def solution(A):\n",
    "    # Implement your solution here\n",
    "    sorted_array = sorted(A)\n",
    "\n",
    "    if sorted_array[-1] < 1:\n",
    "        return 1\n",
    "\n",
    "    for i in range(len(sorted_array)):\n",
    "        try:\n",
    "            if (sorted_array[i+1]-sorted_array[i]) > 1:\n",
    "                return sorted_array[i] + 1\n",
    "        except:\n",
    "            return sorted_array[i] + 1\n",
    "\n",
    "    return sorted_array[-1] + 1\n"
   ]
  },
  {
   "cell_type": "code",
   "execution_count": null,
   "metadata": {},
   "outputs": [],
   "source": [
    "# correct\n",
    "\n",
    "def solution(A):\n",
    "    # Implement your solution here\n",
    "    missing = 1\n",
    "    for elem in sorted(A):\n",
    "        if elem == missing:\n",
    "            missing += 1\n",
    "        if elem > missing:\n",
    "            break\n",
    "    return missing"
   ]
  },
  {
   "cell_type": "code",
   "execution_count": 23,
   "metadata": {},
   "outputs": [
    {
     "name": "stdout",
     "output_type": "stream",
     "text": [
      "x\n"
     ]
    }
   ],
   "source": [
    "word =\"xxabbb\"\n",
    "\n",
    "counter = 0\n",
    "last_letter = word[0]\n",
    "new_word = \"\"\n",
    "for letter in word:\n",
    "    if letter == last_letter:\n",
    "        counter += 1\n",
    "        new_word += letter\n",
    "        last_letter = letter\n",
    "    if counter >= 3:\n",
    "        counter = 0\n",
    "        \n",
    "\n",
    "\n",
    "\n",
    "    if counter"
   ]
  },
  {
   "cell_type": "code",
   "execution_count": 24,
   "metadata": {},
   "outputs": [
    {
     "name": "stdout",
     "output_type": "stream",
     "text": [
      "False\n"
     ]
    }
   ],
   "source": [
    "print('a' > 'b')"
   ]
  },
  {
   "cell_type": "code",
   "execution_count": 25,
   "metadata": {},
   "outputs": [
    {
     "name": "stdout",
     "output_type": "stream",
     "text": [
      "True\n"
     ]
    }
   ],
   "source": [
    "print('c' > 'b')"
   ]
  },
  {
   "cell_type": "code",
   "execution_count": 37,
   "metadata": {},
   "outputs": [
    {
     "data": {
      "text/plain": [
       "'ab'"
      ]
     },
     "execution_count": 37,
     "metadata": {},
     "output_type": "execute_result"
    }
   ],
   "source": [
    "word1 = 'acb'\n",
    "biggest_letter = word1[0]\n",
    "\n",
    "def test(word1):\n",
    "    biggest_letter = word1[0]\n",
    "    for letter in word1:\n",
    "        if letter > biggest_letter:\n",
    "            biggest_letter = letter\n",
    "    return word1.replace(biggest_letter, \"\", word1.index(biggest_letter))\n",
    "test(word1)"
   ]
  },
  {
   "cell_type": "code",
   "execution_count": 34,
   "metadata": {},
   "outputs": [
    {
     "data": {
      "text/plain": [
       "2"
      ]
     },
     "execution_count": 34,
     "metadata": {},
     "output_type": "execute_result"
    }
   ],
   "source": [
    "word2 = 'acb'\n",
    "\n",
    "word2.index(\"b\")"
   ]
  },
  {
   "cell_type": "code",
   "execution_count": 1,
   "metadata": {},
   "outputs": [],
   "source": [
    "import os\n",
    "import requests"
   ]
  },
  {
   "cell_type": "code",
   "execution_count": 2,
   "metadata": {},
   "outputs": [
    {
     "ename": "KeyError",
     "evalue": "'DOMINO_USER_API_KEY'",
     "output_type": "error",
     "traceback": [
      "\u001b[1;31m---------------------------------------------------------------------------\u001b[0m",
      "\u001b[1;31mKeyError\u001b[0m                                  Traceback (most recent call last)",
      "\u001b[1;32mc:\\Users\\noel.c.joaquin\\Desktop\\noelcedrixjoaquin\\testpy.ipynb Cell 15\u001b[0m in \u001b[0;36m<cell line: 1>\u001b[1;34m()\u001b[0m\n\u001b[1;32m----> <a href='vscode-notebook-cell:/c%3A/Users/noel.c.joaquin/Desktop/noelcedrixjoaquin/testpy.ipynb#X20sZmlsZQ%3D%3D?line=0'>1</a>\u001b[0m api_key \u001b[39m=\u001b[39m os\u001b[39m.\u001b[39;49menviron[\u001b[39m\"\u001b[39;49m\u001b[39mDOMINO_USER_API_KEY\u001b[39;49m\u001b[39m\"\u001b[39;49m]\n\u001b[0;32m      <a href='vscode-notebook-cell:/c%3A/Users/noel.c.joaquin/Desktop/noelcedrixjoaquin/testpy.ipynb#X20sZmlsZQ%3D%3D?line=1'>2</a>\u001b[0m project \u001b[39m=\u001b[39m os\u001b[39m.\u001b[39menviron[\u001b[39m\"\u001b[39m\u001b[39mDOMINO_PROJECT_NAME\u001b[39m\u001b[39m\"\u001b[39m]\n\u001b[0;32m      <a href='vscode-notebook-cell:/c%3A/Users/noel.c.joaquin/Desktop/noelcedrixjoaquin/testpy.ipynb#X20sZmlsZQ%3D%3D?line=2'>3</a>\u001b[0m user \u001b[39m=\u001b[39m os\u001b[39m.\u001b[39menviron[\u001b[39m\"\u001b[39m\u001b[39mDOMINO_STARTING_USERNAME\u001b[39m\u001b[39m\"\u001b[39m]\n",
      "File \u001b[1;32mc:\\Users\\noel.c.joaquin\\AppData\\Local\\Programs\\Python\\Python310\\lib\\os.py:679\u001b[0m, in \u001b[0;36m_Environ.__getitem__\u001b[1;34m(self, key)\u001b[0m\n\u001b[0;32m    676\u001b[0m     value \u001b[39m=\u001b[39m \u001b[39mself\u001b[39m\u001b[39m.\u001b[39m_data[\u001b[39mself\u001b[39m\u001b[39m.\u001b[39mencodekey(key)]\n\u001b[0;32m    677\u001b[0m \u001b[39mexcept\u001b[39;00m \u001b[39mKeyError\u001b[39;00m:\n\u001b[0;32m    678\u001b[0m     \u001b[39m# raise KeyError with the original key value\u001b[39;00m\n\u001b[1;32m--> 679\u001b[0m     \u001b[39mraise\u001b[39;00m \u001b[39mKeyError\u001b[39;00m(key) \u001b[39mfrom\u001b[39;00m \u001b[39mNone\u001b[39m\n\u001b[0;32m    680\u001b[0m \u001b[39mreturn\u001b[39;00m \u001b[39mself\u001b[39m\u001b[39m.\u001b[39mdecodevalue(value)\n",
      "\u001b[1;31mKeyError\u001b[0m: 'DOMINO_USER_API_KEY'"
     ]
    }
   ],
   "source": [
    "api_key = os.environ[\"DOMINO_USER_API_KEY\"]\n",
    "project = os.environ[\"DOMINO_PROJECT_NAME\"]\n",
    "user = os.environ[\"DOMINO_STARTING_USERNAME\"]\n",
    "host = \"https://domino.da-analytics-prod.aws.evernorthcloud.com\""
   ]
  },
  {
   "cell_type": "code",
   "execution_count": null,
   "metadata": {},
   "outputs": [],
   "source": []
  }
 ],
 "metadata": {
  "kernelspec": {
   "display_name": "Python 3",
   "language": "python",
   "name": "python3"
  },
  "language_info": {
   "codemirror_mode": {
    "name": "ipython",
    "version": 3
   },
   "file_extension": ".py",
   "mimetype": "text/x-python",
   "name": "python",
   "nbconvert_exporter": "python",
   "pygments_lexer": "ipython3",
   "version": "3.10.4"
  },
  "orig_nbformat": 4
 },
 "nbformat": 4,
 "nbformat_minor": 2
}
