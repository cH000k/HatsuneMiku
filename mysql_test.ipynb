{
 "cells": [
  {
   "cell_type": "code",
   "execution_count": null,
   "metadata": {},
   "outputs": [],
   "source": [
    "pip install sqlalchemy"
   ]
  },
  {
   "cell_type": "code",
   "execution_count": null,
   "metadata": {},
   "outputs": [],
   "source": [
    "import sqlalchemy\n",
    "sqlalchemy.__version__  "
   ]
  },
  {
   "cell_type": "code",
   "execution_count": null,
   "metadata": {},
   "outputs": [],
   "source": [
    "from typing import List\n",
    "from typing import Optional\n",
    "from sqlalchemy import ForeignKey\n",
    "from sqlalchemy import String\n",
    "from sqlalchemy.orm import DeclarativeBase\n",
    "from sqlalchemy.orm import Mapped\n",
    "from sqlalchemy.orm import mapped_column\n",
    "from sqlalchemy.orm import relationship"
   ]
  },
  {
   "cell_type": "code",
   "execution_count": null,
   "metadata": {},
   "outputs": [],
   "source": [
    "from sqlalchemy import create_engine\n",
    "engine = create_engine(\"sqlite://\", echo=True)\n",
    "\n",
    "# https://docs.sqlalchemy.org/en/20/orm/quickstart.html\n",
    "# https://www.youtube.com/watch?v=NuDSWGOcvtg\n",
    "# https://www.fullstackpython.com/sqlalchemy.html\n",
    "# https://www.fullstackpython.com/object-relational-mappers-orms.html"
   ]
  },
  {
   "cell_type": "code",
   "execution_count": 6,
   "metadata": {},
   "outputs": [
    {
     "name": "stdout",
     "output_type": "stream",
     "text": [
      "{1, 2, 3, 4, 'qqqq', 'a'}\n"
     ]
    }
   ],
   "source": [
    "numbers = ['a',1,2,1,3,3,4,'qqqq']\n",
    "print(set(numbers))"
   ]
  },
  {
   "cell_type": "code",
   "execution_count": 9,
   "metadata": {},
   "outputs": [
    {
     "name": "stdout",
     "output_type": "stream",
     "text": [
      "filtered: [2, 3, 4]\n",
      "final: [2, 3, 4]\n"
     ]
    },
    {
     "data": {
      "text/plain": [
       "[2, 3, 4]"
      ]
     },
     "execution_count": 9,
     "metadata": {},
     "output_type": "execute_result"
    }
   ],
   "source": [
    "def find_unique_numbers(numbers):\n",
    "    # filter letters\n",
    "    # remove duplicate numbers\n",
    "    # return a list\n",
    "\n",
    "    filtered_list = [x for x in numbers if int(str(x).isdigit())]\n",
    "\n",
    "    for num in filtered_list:\n",
    "        if filtered_list.count(num) > 1:\n",
    "            for x in filtered_list:\n",
    "                filtered_list.remove(x)\n",
    "    print(f'filtered: {filtered_list}')\n",
    "    print(f'final: {list(set(filtered_list))}')\n",
    "    return list(set(filtered_list))\n",
    "\n",
    "find_unique_numbers(numbers)"
   ]
  },
  {
   "attachments": {},
   "cell_type": "markdown",
   "metadata": {},
   "source": [
    "The basic algorithms that are widely used are linear search, binary search, merge sort, quick sort, insertion sort, bubble sort and selection sort. These algorithms form a foundation for more complex algorithms. The choice of algorithm depends on the specific problem and the set of input data."
   ]
  },
  {
   "cell_type": "code",
   "execution_count": 14,
   "metadata": {},
   "outputs": [
    {
     "name": "stdout",
     "output_type": "stream",
     "text": [
      "9\n"
     ]
    }
   ],
   "source": [
    "arr = [10, 50, 30, 70, 80, 20, 90, 40, 1]\n",
    "value = 20\n",
    "length = len(arr)\n",
    "\n",
    "print(length)"
   ]
  },
  {
   "cell_type": "code",
   "execution_count": 13,
   "metadata": {},
   "outputs": [
    {
     "data": {
      "text/plain": [
       "5"
      ]
     },
     "execution_count": 13,
     "metadata": {},
     "output_type": "execute_result"
    }
   ],
   "source": [
    "# Linear Search Algorithm\n",
    "# Time Complexity: O(n)\n",
    "# Simple and can be used whether array is sorted or not\n",
    "# Can be used on array with any data type\n",
    "# Well suited for small datasets but slow for large datasets\n",
    "# https://www.geeksforgeeks.org/linear-search/\n",
    "\n",
    "arr = [10, 50, 30, 70, 80, 20, 90, 40, 1]\n",
    "value = 20\n",
    "length = len(arr)\n",
    "\n",
    "def linear_search(arr, length, value):\n",
    "    for i in range(0, length):\n",
    "        if arr[i] == value:\n",
    "            return i\n",
    "    return -1\n",
    "\n",
    "linear_search(arr, length, value)"
   ]
  },
  {
   "cell_type": "code",
   "execution_count": 1,
   "metadata": {},
   "outputs": [
    {
     "data": {
      "text/plain": [
       "4"
      ]
     },
     "execution_count": 1,
     "metadata": {},
     "output_type": "execute_result"
    }
   ],
   "source": [
    "# Binary Search Algorithm\n",
    "# Time Complexity: O(log n)\n",
    "# used in a 'sorted array' by repeatedly dividing the search interval in half\n",
    "# The data structure must be sorted\n",
    "# Access to any element of the data structure takes constant time.\n",
    "# https://www.geeksforgeeks.org/binary-search/\n",
    "\n",
    "arr = [1,2,3,4,5,6,7,8,9]\n",
    "arr.sort()\n",
    "target = 5\n",
    "\n",
    "# def binary_search(target, l, r):\n",
    "\n",
    "#     if l > r:\n",
    "#         return -1\n",
    "    \n",
    "#     m = int((l+r)/2)\n",
    "\n",
    "#     if arr[m] == target:\n",
    "#         return m\n",
    "#     if arr[m] > target:\n",
    "#         return binary_search(target, l, m-1)\n",
    "#     if arr[m] < target:\n",
    "#         return binary_search(target, m+1, r)\n",
    "\n",
    "# binary_search(target, 0, 8)\n",
    "\n",
    "\n",
    "def binarySearch(target):\n",
    "    l = 0\n",
    "    r = len(arr)-1\n",
    "    while l<=r:\n",
    "        m = int((l+r)/2)\n",
    "\n",
    "        if arr[m] == target:\n",
    "            return m\n",
    "        if arr[m] > target:\n",
    "            r = m-1\n",
    "        else:\n",
    "            l = m+1\n",
    "    return -1\n",
    "\n",
    "binarySearch(target)"
   ]
  },
  {
   "cell_type": "code",
   "execution_count": 12,
   "metadata": {},
   "outputs": [
    {
     "data": {
      "text/plain": [
       "1"
      ]
     },
     "execution_count": 12,
     "metadata": {},
     "output_type": "execute_result"
    }
   ],
   "source": [
    "arr = [2,1]\n",
    "# arr2 = [2,3,4,5,1]\n",
    "# arr3 = [3,4,5,1,2]\n",
    "# arr3 = [3,4,1,2]\n",
    "\n",
    "def rotate(arr):\n",
    "    num_rotations = 0\n",
    "    l = 0\n",
    "    r = len(arr)-1\n",
    "\n",
    "    if arr[l] < arr[r]:\n",
    "        return num_rotations\n",
    "\n",
    "    while arr[l]>arr[r]:\n",
    "        num_rotations += 1\n",
    "        l += 1\n",
    "    return num_rotations\n",
    "\n",
    "rotate(arr)"
   ]
  },
  {
   "cell_type": "code",
   "execution_count": 10,
   "metadata": {},
   "outputs": [
    {
     "data": {
      "text/plain": [
       "2"
      ]
     },
     "execution_count": 10,
     "metadata": {},
     "output_type": "execute_result"
    }
   ],
   "source": [
    "(4+1)//2"
   ]
  },
  {
   "attachments": {},
   "cell_type": "markdown",
   "metadata": {},
   "source": [
    "If we list all the natural numbers below 10 that are multiples of 3 or 5, we get 3, 5, 6 and 9. The sum of these multiples is 23.\n",
    "\n",
    "Find the sum of all the multiples of 3 or 5 below 1000."
   ]
  },
  {
   "cell_type": "code",
   "execution_count": 7,
   "metadata": {},
   "outputs": [
    {
     "data": {
      "text/plain": [
       "233168"
      ]
     },
     "execution_count": 7,
     "metadata": {},
     "output_type": "execute_result"
    }
   ],
   "source": [
    "def sum_of_multiples(nums):\n",
    "    sum = 0\n",
    "    for num in range(1, nums):\n",
    "        if (num % 3 == 0) or (num % 5 == 0):\n",
    "            sum += num\n",
    "    return sum\n",
    "\n",
    "sum_of_multiples(1000)"
   ]
  },
  {
   "cell_type": "code",
   "execution_count": null,
   "metadata": {},
   "outputs": [],
   "source": []
  }
 ],
 "metadata": {
  "kernelspec": {
   "display_name": "Python 3",
   "language": "python",
   "name": "python3"
  },
  "language_info": {
   "codemirror_mode": {
    "name": "ipython",
    "version": 3
   },
   "file_extension": ".py",
   "mimetype": "text/x-python",
   "name": "python",
   "nbconvert_exporter": "python",
   "pygments_lexer": "ipython3",
   "version": "3.10.4"
  },
  "orig_nbformat": 4
 },
 "nbformat": 4,
 "nbformat_minor": 2
}
